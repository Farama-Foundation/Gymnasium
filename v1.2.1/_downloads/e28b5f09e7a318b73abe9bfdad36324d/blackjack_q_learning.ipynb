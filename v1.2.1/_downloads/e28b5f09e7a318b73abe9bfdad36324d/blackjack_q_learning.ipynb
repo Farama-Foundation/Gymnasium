{
  "cells": [
    {
      "cell_type": "markdown",
      "metadata": {},
      "source": [
        "\n# Solving Blackjack with Tabular Q-Learning\n\nThis tutorial trains an agent for BlackJack using tabular Q-learning.\n"
      ]
    },
    {
      "cell_type": "markdown",
      "metadata": {},
      "source": [
        "<img src=\"file://_static/img/tutorials/blackjack_AE_loop.jpg\" width=\"650\" alt=\"agent-environment-diagram\" class=\"only-light\">\n<img src=\"file://_static/img/tutorials/blackjack_AE_loop_dark.png\" width=\"650\" alt=\"agent-environment-diagram\" class=\"only-dark\">\n\nIn this tutorial, we\u2019ll explore and solve the *Blackjack-v1*\nenvironment.\n\n**Blackjack** is one of the most popular casino card games that is also\ninfamous for being beatable under certain conditions. This version of\nthe game uses an infinite deck (we draw the cards with replacement), so\ncounting cards won\u2019t be a viable strategy in our simulated game.\nFull documentation can be found at https://gymnasium.farama.org/environments/toy_text/blackjack\n\n**Objective**: To win, your card sum should be greater than the\ndealers without exceeding 21.\n\n**Actions**: Agents can pick between two actions:\n - stand (0): the player takes no more cards\n - hit (1): the player will be given another card, however the player could get over 21 and bust\n\n**Approach**: To solve this environment by yourself, you can pick your\nfavorite discrete RL algorithm. The presented solution uses *Q-learning*\n(a model-free RL algorithm).\n\n\n"
      ]
    },
    {
      "cell_type": "markdown",
      "metadata": {},
      "source": [
        "## Imports and Environment Setup\n\n\n"
      ]
    },
    {
      "cell_type": "code",
      "execution_count": null,
      "metadata": {
        "collapsed": false
      },
      "outputs": [],
      "source": [
        "# Author: Till Zemann\n# License: MIT License\n\nfrom __future__ import annotations\n\nfrom collections import defaultdict\n\nimport matplotlib.pyplot as plt\nimport numpy as np\nimport seaborn as sns\nfrom matplotlib.patches import Patch\nfrom tqdm import tqdm\n\nimport gymnasium as gym\n\n\n# Let's start by creating the blackjack environment.\n# Note: We are going to follow the rules from Sutton & Barto.\n# Other versions of the game can be found below for you to experiment.\n\nenv = gym.make(\"Blackjack-v1\", sab=True)"
      ]
    },
    {
      "cell_type": "markdown",
      "metadata": {},
      "source": [
        ".. code:: py\n\n  # Other possible environment configurations are:\n\n  env = gym.make('Blackjack-v1', natural=True, sab=False)\n  # Whether to give an additional reward for starting with a natural blackjack, i.e. starting with an ace and ten (sum is 21).\n\n  env = gym.make('Blackjack-v1', natural=False, sab=False)\n  # Whether to follow the exact rules outlined in the book by Sutton and Barto. If `sab` is `True`, the keyword argument `natural` will be ignored.\n\n\n"
      ]
    },
    {
      "cell_type": "markdown",
      "metadata": {},
      "source": [
        "## Observing the environment\n\nFirst of all, we call ``env.reset()`` to start an episode. This function\nresets the environment to a starting position and returns an initial\n``observation``. We usually also set ``done = False``. This variable\nwill be useful later to check if a game is terminated (i.e., the player wins or loses).\n\n\n"
      ]
    },
    {
      "cell_type": "code",
      "execution_count": null,
      "metadata": {
        "collapsed": false
      },
      "outputs": [],
      "source": [
        "# reset the environment to get the first observation\ndone = False\nobservation, info = env.reset()\n\n# observation = (16, 9, False)"
      ]
    },
    {
      "cell_type": "markdown",
      "metadata": {},
      "source": [
        "Note that our observation is a 3-tuple consisting of 3 values:\n\n-  The players current sum\n-  Value of the dealers face-up card\n-  Boolean whether the player holds a usable ace (An ace is usable if it\n   counts as 11 without busting)\n\n\n"
      ]
    },
    {
      "cell_type": "markdown",
      "metadata": {},
      "source": [
        "## Executing an action\n\nAfter receiving our first observation, we are only going to use the\n``env.step(action)`` function to interact with the environment. This\nfunction takes an action as input and executes it in the environment.\nBecause that action changes the state of the environment, it returns\nfour useful variables to us. These are:\n\n-  ``next_state``: This is the observation that the agent will receive\n   after taking the action.\n-  ``reward``: This is the reward that the agent will receive after\n   taking the action.\n-  ``terminated``: This is a boolean variable that indicates whether or\n   not the environment has terminated.\n-  ``truncated``: This is a boolean variable that also indicates whether\n   the episode ended by early truncation, i.e., a time limit is reached.\n-  ``info``: This is a dictionary that might contain additional\n   information about the environment.\n\nThe ``next_state``, ``reward``,  ``terminated`` and ``truncated`` variables are\nself-explanatory, but the ``info`` variable requires some additional\nexplanation. This variable contains a dictionary that might have some\nextra information about the environment, but in the Blackjack-v1\nenvironment you can ignore it. For example in Atari environments the\ninfo dictionary has a ``ale.lives`` key that tells us how many lives the\nagent has left. If the agent has 0 lives, then the episode is over.\n\nNote that it is not a good idea to call ``env.render()`` in your training\nloop because rendering slows down training by a lot. Rather try to build\nan extra loop to evaluate and showcase the agent after training.\n\n\n"
      ]
    },
    {
      "cell_type": "code",
      "execution_count": null,
      "metadata": {
        "collapsed": false
      },
      "outputs": [],
      "source": [
        "# sample a random action from all valid actions\naction = env.action_space.sample()\n# action=1\n\n# execute the action in our environment and receive infos from the environment\nobservation, reward, terminated, truncated, info = env.step(action)\n\n# observation=(24, 10, False)\n# reward=-1.0\n# terminated=True\n# truncated=False\n# info={}"
      ]
    },
    {
      "cell_type": "markdown",
      "metadata": {},
      "source": [
        "Once ``terminated = True`` or ``truncated=True``, we should stop the\ncurrent episode and begin a new one with ``env.reset()``. If you\ncontinue executing actions without resetting the environment, it still\nresponds but the output won\u2019t be useful for training (it might even be\nharmful if the agent learns on invalid data).\n\n\n"
      ]
    },
    {
      "cell_type": "markdown",
      "metadata": {},
      "source": [
        "## Building an agent\n\nLet\u2019s build a ``Q-learning agent`` to solve *Blackjack-v1*! We\u2019ll need\nsome functions for picking an action and updating the agents action\nvalues. To ensure that the agents explores the environment, one possible\nsolution is the ``epsilon-greedy`` strategy, where we pick a random\naction with the percentage ``epsilon`` and the greedy action (currently\nvalued as the best) ``1 - epsilon``.\n\n\n"
      ]
    },
    {
      "cell_type": "code",
      "execution_count": null,
      "metadata": {
        "collapsed": false
      },
      "outputs": [],
      "source": [
        "class BlackjackAgent:\n    def __init__(\n        self,\n        env,\n        learning_rate: float,\n        initial_epsilon: float,\n        epsilon_decay: float,\n        final_epsilon: float,\n        discount_factor: float = 0.95,\n    ):\n        \"\"\"Initialize a Reinforcement Learning agent with an empty dictionary\n        of state-action values (q_values), a learning rate and an epsilon.\n\n        Args:\n            learning_rate: The learning rate\n            initial_epsilon: The initial epsilon value\n            epsilon_decay: The decay for epsilon\n            final_epsilon: The final epsilon value\n            discount_factor: The discount factor for computing the Q-value\n        \"\"\"\n        self.q_values = defaultdict(lambda: np.zeros(env.action_space.n))\n\n        self.lr = learning_rate\n        self.discount_factor = discount_factor\n\n        self.epsilon = initial_epsilon\n        self.epsilon_decay = epsilon_decay\n        self.final_epsilon = final_epsilon\n\n        self.training_error = []\n\n    def get_action(self, env, obs: tuple[int, int, bool]) -> int:\n        \"\"\"\n        Returns the best action with probability (1 - epsilon)\n        otherwise a random action with probability epsilon to ensure exploration.\n        \"\"\"\n        # with probability epsilon return a random action to explore the environment\n        if np.random.random() < self.epsilon:\n            return env.action_space.sample()\n\n        # with probability (1 - epsilon) act greedily (exploit)\n        else:\n            return int(np.argmax(self.q_values[obs]))\n\n    def update(\n        self,\n        obs: tuple[int, int, bool],\n        action: int,\n        reward: float,\n        terminated: bool,\n        next_obs: tuple[int, int, bool],\n    ):\n        \"\"\"Updates the Q-value of an action.\"\"\"\n        future_q_value = (not terminated) * np.max(self.q_values[next_obs])\n        temporal_difference = (\n            reward + self.discount_factor * future_q_value - self.q_values[obs][action]\n        )\n\n        self.q_values[obs][action] = (\n            self.q_values[obs][action] + self.lr * temporal_difference\n        )\n        self.training_error.append(temporal_difference)\n\n    def decay_epsilon(self):\n        self.epsilon = max(self.final_epsilon, self.epsilon - self.epsilon_decay)"
      ]
    },
    {
      "cell_type": "markdown",
      "metadata": {},
      "source": [
        "To train the agent, we will let the agent play one episode (one complete\ngame is called an episode) at a time and then update it\u2019s Q-values after\neach step (one single action in a game is called a step).\n\nThe agent will have to experience a lot of episodes to explore the\nenvironment sufficiently.\n\nNow we should be ready to build the training loop.\n\n\n"
      ]
    },
    {
      "cell_type": "code",
      "execution_count": null,
      "metadata": {
        "collapsed": false
      },
      "outputs": [],
      "source": [
        "# hyperparameters\nlearning_rate = 0.01\nn_episodes = 100_000\nstart_epsilon = 1.0\nepsilon_decay = start_epsilon / (n_episodes / 2)  # reduce the exploration over time\nfinal_epsilon = 0.1\n\nagent = BlackjackAgent(\n    env=env,\n    learning_rate=learning_rate,\n    initial_epsilon=start_epsilon,\n    epsilon_decay=epsilon_decay,\n    final_epsilon=final_epsilon,\n)"
      ]
    },
    {
      "cell_type": "markdown",
      "metadata": {},
      "source": [
        "Great, let\u2019s train!\n\nInfo: The current hyperparameters are set to quickly train a decent agent.\nIf you want to converge to the optimal policy, try increasing\nthe n_episodes by 10x and lower the learning_rate (e.g. to 0.001).\n\n\n"
      ]
    },
    {
      "cell_type": "code",
      "execution_count": null,
      "metadata": {
        "collapsed": false
      },
      "outputs": [],
      "source": [
        "env = gym.wrappers.RecordEpisodeStatistics(env, buffer_length=n_episodes)\nfor episode in tqdm(range(n_episodes)):\n    obs, info = env.reset()\n    done = False\n\n    # play one episode\n    while not done:\n        action = agent.get_action(env, obs)\n        next_obs, reward, terminated, truncated, info = env.step(action)\n\n        # update the agent\n        agent.update(obs, action, reward, terminated, next_obs)\n\n        # update if the environment is done and the current obs\n        done = terminated or truncated\n        obs = next_obs\n\n    agent.decay_epsilon()"
      ]
    },
    {
      "cell_type": "markdown",
      "metadata": {},
      "source": [
        "## Visualizing the training\n\n\n"
      ]
    },
    {
      "cell_type": "code",
      "execution_count": null,
      "metadata": {
        "collapsed": false
      },
      "outputs": [],
      "source": [
        "rolling_length = 500\nfig, axs = plt.subplots(ncols=3, figsize=(12, 5))\naxs[0].set_title(\"Episode rewards\")\n# compute and assign a rolling average of the data to provide a smoother graph\nreward_moving_average = (\n    np.convolve(\n        np.array(env.return_queue).flatten(), np.ones(rolling_length), mode=\"valid\"\n    )\n    / rolling_length\n)\naxs[0].plot(range(len(reward_moving_average)), reward_moving_average)\naxs[1].set_title(\"Episode lengths\")\nlength_moving_average = (\n    np.convolve(\n        np.array(env.length_queue).flatten(), np.ones(rolling_length), mode=\"same\"\n    )\n    / rolling_length\n)\naxs[1].plot(range(len(length_moving_average)), length_moving_average)\naxs[2].set_title(\"Training Error\")\ntraining_error_moving_average = (\n    np.convolve(np.array(agent.training_error), np.ones(rolling_length), mode=\"same\")\n    / rolling_length\n)\naxs[2].plot(range(len(training_error_moving_average)), training_error_moving_average)\nplt.tight_layout()\nplt.show()"
      ]
    },
    {
      "cell_type": "markdown",
      "metadata": {},
      "source": [
        "<img src=\"file://_static/img/tutorials/blackjack_training_plots.png\">\n\n\n"
      ]
    },
    {
      "cell_type": "markdown",
      "metadata": {},
      "source": [
        "## Visualising the policy\n\n"
      ]
    },
    {
      "cell_type": "code",
      "execution_count": null,
      "metadata": {
        "collapsed": false
      },
      "outputs": [],
      "source": [
        "def create_grids(agent, usable_ace=False):\n    \"\"\"Create value and policy grid given an agent.\"\"\"\n    # convert our state-action values to state values\n    # and build a policy dictionary that maps observations to actions\n    state_value = defaultdict(float)\n    policy = defaultdict(int)\n    for obs, action_values in agent.q_values.items():\n        state_value[obs] = float(np.max(action_values))\n        policy[obs] = int(np.argmax(action_values))\n\n    player_count, dealer_count = np.meshgrid(\n        # players count, dealers face-up card\n        np.arange(12, 22),\n        np.arange(1, 11),\n    )\n\n    # create the value grid for plotting\n    value = np.apply_along_axis(\n        lambda obs: state_value[(obs[0], obs[1], usable_ace)],\n        axis=2,\n        arr=np.dstack([player_count, dealer_count]),\n    )\n    value_grid = player_count, dealer_count, value\n\n    # create the policy grid for plotting\n    policy_grid = np.apply_along_axis(\n        lambda obs: policy[(obs[0], obs[1], usable_ace)],\n        axis=2,\n        arr=np.dstack([player_count, dealer_count]),\n    )\n    return value_grid, policy_grid\n\n\ndef create_plots(value_grid, policy_grid, title: str):\n    \"\"\"Creates a plot using a value and policy grid.\"\"\"\n    # create a new figure with 2 subplots (left: state values, right: policy)\n    player_count, dealer_count, value = value_grid\n    fig = plt.figure(figsize=plt.figaspect(0.4))\n    fig.suptitle(title, fontsize=16)\n\n    # plot the state values\n    ax1 = fig.add_subplot(1, 2, 1, projection=\"3d\")\n    ax1.plot_surface(\n        player_count,\n        dealer_count,\n        value,\n        rstride=1,\n        cstride=1,\n        cmap=\"viridis\",\n        edgecolor=\"none\",\n    )\n    plt.xticks(range(12, 22), range(12, 22))\n    plt.yticks(range(1, 11), [\"A\"] + list(range(2, 11)))\n    ax1.set_title(f\"State values: {title}\")\n    ax1.set_xlabel(\"Player sum\")\n    ax1.set_ylabel(\"Dealer showing\")\n    ax1.zaxis.set_rotate_label(False)\n    ax1.set_zlabel(\"Value\", fontsize=14, rotation=90)\n    ax1.view_init(20, 220)\n\n    # plot the policy\n    fig.add_subplot(1, 2, 2)\n    ax2 = sns.heatmap(policy_grid, linewidth=0, annot=True, cmap=\"Accent_r\", cbar=False)\n    ax2.set_title(f\"Policy: {title}\")\n    ax2.set_xlabel(\"Player sum\")\n    ax2.set_ylabel(\"Dealer showing\")\n    ax2.set_xticklabels(range(12, 22))\n    ax2.set_yticklabels([\"A\"] + list(range(2, 11)), fontsize=12)\n\n    # add a legend\n    legend_elements = [\n        Patch(facecolor=\"lightgreen\", edgecolor=\"black\", label=\"Hit\"),\n        Patch(facecolor=\"grey\", edgecolor=\"black\", label=\"Stick\"),\n    ]\n    ax2.legend(handles=legend_elements, bbox_to_anchor=(1.3, 1))\n    return fig\n\n\n# state values & policy with usable ace (ace counts as 11)\nvalue_grid, policy_grid = create_grids(agent, usable_ace=True)\nfig1 = create_plots(value_grid, policy_grid, title=\"With usable ace\")\nplt.show()"
      ]
    },
    {
      "cell_type": "markdown",
      "metadata": {},
      "source": [
        "<img src=\"file://_static/img/tutorials/blackjack_with_usable_ace.png\">\n\n\n"
      ]
    },
    {
      "cell_type": "code",
      "execution_count": null,
      "metadata": {
        "collapsed": false
      },
      "outputs": [],
      "source": [
        "# state values & policy without usable ace (ace counts as 1)\nvalue_grid, policy_grid = create_grids(agent, usable_ace=False)\nfig2 = create_plots(value_grid, policy_grid, title=\"Without usable ace\")\nplt.show()"
      ]
    },
    {
      "cell_type": "markdown",
      "metadata": {},
      "source": [
        "<img src=\"file://_static/img/tutorials/blackjack_without_usable_ace.png\">\n\nIt's good practice to call env.close() at the end of your script,\nso that any used resources by the environment will be closed.\n\n\n"
      ]
    },
    {
      "cell_type": "markdown",
      "metadata": {},
      "source": [
        "## Think you can do better?\n\n"
      ]
    },
    {
      "cell_type": "code",
      "execution_count": null,
      "metadata": {
        "collapsed": false
      },
      "outputs": [],
      "source": [
        "# You can visualize the environment using the play function\n# and try to win a few games."
      ]
    },
    {
      "cell_type": "markdown",
      "metadata": {},
      "source": [
        "Hopefully this Tutorial helped you get a grip of how to interact with\nOpenAI-Gym environments and sets you on a journey to solve many more RL\nchallenges.\n\nIt is recommended that you solve this environment by yourself (project\nbased learning is really effective!). You can apply your favorite\ndiscrete RL algorithm or give Monte Carlo ES a try (covered in [Sutton &\nBarto](http://incompleteideas.net/book/the-book-2nd.html), section\n5.3) - this way you can compare your results directly to the book.\n\nBest of fun!\n\n\n"
      ]
    }
  ],
  "metadata": {
    "kernelspec": {
      "display_name": "Python 3",
      "language": "python",
      "name": "python3"
    },
    "language_info": {
      "codemirror_mode": {
        "name": "ipython",
        "version": 3
      },
      "file_extension": ".py",
      "mimetype": "text/x-python",
      "name": "python",
      "nbconvert_exporter": "python",
      "pygments_lexer": "ipython3",
      "version": "3.12.11"
    }
  },
  "nbformat": 4,
  "nbformat_minor": 0
}