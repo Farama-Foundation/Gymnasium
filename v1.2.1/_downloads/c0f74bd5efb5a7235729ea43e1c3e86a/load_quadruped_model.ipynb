{
  "cells": [
    {
      "cell_type": "markdown",
      "metadata": {},
      "source": [
        "\n# Load custom quadruped robot environments\n\nIn this tutorial create a mujoco quadruped walking environment using a model file (ending in `.xml`) without having to create a new class.\n\nSteps:\n\n0. Get your **MJCF** (or **URDF**) model file of your robot.\n    - Create your own model (see the MuJoCo Guide) or,\n    - Find a ready-made model (in this tutorial, we will use a model from the MuJoCo Menagerie collection).\n1. Load the model with the `xml_file` argument.\n2. Tweak the environment parameters to get the desired behavior.\n    1. Tweak the environment simulation parameters.\n    2. Tweak the environment termination parameters.\n    3. Tweak the environment reward parameters.\n    4. Tweak the environment observation parameters.\n3. Train an agent to move your robot.\n"
      ]
    },
    {
      "cell_type": "code",
      "execution_count": null,
      "metadata": {
        "collapsed": false
      },
      "outputs": [],
      "source": [
        "# The reader is expected to be familiar with the `Gymnasium` API & library, the basics of robotics,\n# and the included `Gymnasium/MuJoCo` environments with the robot model they use.\n# Familiarity with the **MJCF** file model format and the `MuJoCo` simulator is not required but is recommended."
      ]
    },
    {
      "cell_type": "markdown",
      "metadata": {},
      "source": [
        "## Setup\nWe will need `gymnasium>=1.0.0`.\n\n"
      ]
    },
    {
      "cell_type": "code",
      "execution_count": null,
      "metadata": {
        "collapsed": false
      },
      "outputs": [],
      "source": [
        "import numpy as np\n\nimport gymnasium as gym\n\n\n# Make sure Gymnasium is properly installed\n# You can run this in your terminal:\n# pip install \"gymnasium>=1.0.0\""
      ]
    },
    {
      "cell_type": "markdown",
      "metadata": {},
      "source": [
        "## Step 0.1 - Download a Robot Model\nIn this tutorial we will load the Unitree Go1 robot from the excellent MuJoCo Menagerie robot model collection.\nGo1 is a quadruped robot, controlling it to move is a significant learning problem,\nmuch harder than the `Gymnasium/MuJoCo/Ant` environment.\n\nNote: The original tutorial includes an image of the Unitree Go1 robot in a flat terrain scene.\nYou can view this image at: https://github.com/google-deepmind/mujoco_menagerie/blob/main/unitree_go1/go1.png?raw=true\n\n"
      ]
    },
    {
      "cell_type": "code",
      "execution_count": null,
      "metadata": {
        "collapsed": false
      },
      "outputs": [],
      "source": [
        "# You can download the whole MuJoCo Menagerie collection (which includes `Go1`):\n# git clone https://github.com/google-deepmind/mujoco_menagerie.git\n\n# You can use any other quadruped robot with this tutorial, just adjust the environment parameter values for your robot."
      ]
    },
    {
      "cell_type": "markdown",
      "metadata": {},
      "source": [
        "## Step 1 - Load the model\nTo load the model, all we have to do is use the `xml_file` argument with the `Ant-v5` framework.\n\n"
      ]
    },
    {
      "cell_type": "code",
      "execution_count": null,
      "metadata": {
        "collapsed": false
      },
      "outputs": [],
      "source": [
        "# Basic loading (uncomment to use)\n# env = gym.make('Ant-v5', xml_file='./mujoco_menagerie/unitree_go1/scene.xml')\n\n# Although this is enough to load the model, we will need to tweak some environment parameters\n# to get the desired behavior for our environment, so we will also explicitly set the simulation,\n# termination, reward and observation arguments, which we will tweak in the next step.\n\nenv = gym.make(\n    \"Ant-v5\",\n    xml_file=\"./mujoco_menagerie/unitree_go1/scene.xml\",\n    forward_reward_weight=0,\n    ctrl_cost_weight=0,\n    contact_cost_weight=0,\n    healthy_reward=0,\n    main_body=1,\n    healthy_z_range=(0, np.inf),\n    include_cfrc_ext_in_observation=True,\n    exclude_current_positions_from_observation=False,\n    reset_noise_scale=0,\n    frame_skip=1,\n    max_episode_steps=1000,\n)"
      ]
    },
    {
      "cell_type": "markdown",
      "metadata": {},
      "source": [
        "## Step 2 - Tweaking the Environment Parameters\nTweaking the environment parameters is essential to get the desired behavior for learning.\nIn the following subsections, the reader is encouraged to consult the documentation of\nthe arguments for more detailed information.\n\n"
      ]
    },
    {
      "cell_type": "markdown",
      "metadata": {},
      "source": [
        "## Step 2.1 - Tweaking the Environment Simulation Parameters\nThe arguments of interest are `frame_skip`, `reset_noise_scale` and `max_episode_steps`.\n\n"
      ]
    },
    {
      "cell_type": "code",
      "execution_count": null,
      "metadata": {
        "collapsed": false
      },
      "outputs": [],
      "source": [
        "# We want to tweak the `frame_skip` parameter to get `dt` to an acceptable value\n# (typical values are `dt` \u2208 [0.01, 0.1] seconds),\n\n# Reminder: dt = frame_skip \u00d7 model.opt.timestep, where `model.opt.timestep` is the integrator\n# time step selected in the MJCF model file.\n\n# The `Go1` model we are using has an integrator timestep of `0.002`, so by selecting\n# `frame_skip=25` we can set the value of `dt` to `0.05s`.\n\n# To avoid overfitting the policy, `reset_noise_scale` should be set to a value appropriate\n# to the size of the robot, we want the value to be as large as possible without the initial\n# distribution of states being invalid (`Terminal` regardless of control actions),\n# for `Go1` we choose a value of `0.1`.\n\n# And `max_episode_steps` determines the number of steps per episode before `truncation`,\n# here we set it to 1000 to be consistent with the based `Gymnasium/MuJoCo` environments,\n# but if you need something higher you can set it so.\n\nenv = gym.make(\n    \"Ant-v5\",\n    xml_file=\"./mujoco_menagerie/unitree_go1/scene.xml\",\n    forward_reward_weight=0,\n    ctrl_cost_weight=0,\n    contact_cost_weight=0,\n    healthy_reward=0,\n    main_body=1,\n    healthy_z_range=(0, np.inf),\n    include_cfrc_ext_in_observation=True,\n    exclude_current_positions_from_observation=False,\n    reset_noise_scale=0.1,  # set to avoid policy overfitting\n    frame_skip=25,  # set dt=0.05\n    max_episode_steps=1000,  # kept at 1000\n)"
      ]
    },
    {
      "cell_type": "markdown",
      "metadata": {},
      "source": [
        "## Step 2.2 - Tweaking the Environment Termination Parameters\nTermination is important for robot environments to avoid sampling \"useless\" time steps.\n\n"
      ]
    },
    {
      "cell_type": "code",
      "execution_count": null,
      "metadata": {
        "collapsed": false
      },
      "outputs": [],
      "source": [
        "# The arguments of interest are `terminate_when_unhealthy` and `healthy_z_range`.\n\n# We want to set `healthy_z_range` to terminate the environment when the robot falls over,\n# or jumps really high, here we have to choose a value that is logical for the height of the robot,\n# for `Go1` we choose `(0.195, 0.75)`.\n# Note: `healthy_z_range` checks the absolute value of the height of the robot,\n# so if your scene contains different levels of elevation it should be set to `(-np.inf, np.inf)`\n\n# We could also set `terminate_when_unhealthy=False` to disable termination altogether,\n# which is not desirable in the case of `Go1`.\n\nenv = gym.make(\n    \"Ant-v5\",\n    xml_file=\"./mujoco_menagerie/unitree_go1/scene.xml\",\n    forward_reward_weight=0,\n    ctrl_cost_weight=0,\n    contact_cost_weight=0,\n    healthy_reward=0,\n    main_body=1,\n    healthy_z_range=(\n        0.195,\n        0.75,\n    ),  # set to avoid sampling steps where the robot has fallen or jumped too high\n    include_cfrc_ext_in_observation=True,\n    exclude_current_positions_from_observation=False,\n    reset_noise_scale=0.1,\n    frame_skip=25,\n    max_episode_steps=1000,\n)\n\n# Note: If you need a different termination condition, you can write your own `TerminationWrapper`\n# (see the documentation)."
      ]
    },
    {
      "cell_type": "markdown",
      "metadata": {},
      "source": [
        "## Step 2.3 - Tweaking the Environment Reward Parameters\nThe arguments of interest are `forward_reward_weight`, `ctrl_cost_weight`, `contact_cost_weight`,\n`healthy_reward`, and `main_body`.\n\n"
      ]
    },
    {
      "cell_type": "code",
      "execution_count": null,
      "metadata": {
        "collapsed": false
      },
      "outputs": [],
      "source": [
        "# For the arguments `forward_reward_weight`, `ctrl_cost_weight`, `contact_cost_weight` and `healthy_reward`\n# we have to pick values that make sense for our robot, you can use the default `MuJoCo/Ant`\n# parameters for references and tweak them if a change is needed for your environment.\n# In the case of `Go1` we only change the `ctrl_cost_weight` since it has a higher actuator force range.\n\n# For the argument `main_body` we have to choose which body part is the main body\n# (usually called something like \"torso\" or \"trunk\" in the model file) for the calculation\n# of the `forward_reward`, in the case of `Go1` it is the `\"trunk\"`\n# (Note: in most cases including this one, it can be left at the default value).\n\nenv = gym.make(\n    \"Ant-v5\",\n    xml_file=\"./mujoco_menagerie/unitree_go1/scene.xml\",\n    forward_reward_weight=1,  # kept the same as the 'Ant' environment\n    ctrl_cost_weight=0.05,  # changed because of the stronger motors of `Go1`\n    contact_cost_weight=5e-4,  # kept the same as the 'Ant' environment\n    healthy_reward=1,  # kept the same as the 'Ant' environment\n    main_body=1,  # represents the \"trunk\" of the `Go1` robot\n    healthy_z_range=(0.195, 0.75),\n    include_cfrc_ext_in_observation=True,\n    exclude_current_positions_from_observation=False,\n    reset_noise_scale=0.1,\n    frame_skip=25,\n    max_episode_steps=1000,\n)\n\n# Note: If you need a different reward function, you can write your own `RewardWrapper`\n# (see the documentation)."
      ]
    },
    {
      "cell_type": "markdown",
      "metadata": {},
      "source": [
        "## Step 2.4 - Tweaking the Environment Observation Parameters\nThe arguments of interest are `include_cfrc_ext_in_observation` and\n`exclude_current_positions_from_observation`.\n\n"
      ]
    },
    {
      "cell_type": "code",
      "execution_count": null,
      "metadata": {
        "collapsed": false
      },
      "outputs": [],
      "source": [
        "# Here for `Go1` we have no particular reason to change them.\n\nenv = gym.make(\n    \"Ant-v5\",\n    xml_file=\"./mujoco_menagerie/unitree_go1/scene.xml\",\n    forward_reward_weight=1,\n    ctrl_cost_weight=0.05,\n    contact_cost_weight=5e-4,\n    healthy_reward=1,\n    main_body=1,\n    healthy_z_range=(0.195, 0.75),\n    include_cfrc_ext_in_observation=True,  # kept the same as the 'Ant' environment\n    exclude_current_positions_from_observation=False,  # kept the same as the 'Ant' environment\n    reset_noise_scale=0.1,\n    frame_skip=25,\n    max_episode_steps=1000,\n)\n\n\n# Note: If you need additional observation elements (such as additional sensors),\n# you can write your own `ObservationWrapper` (see the documentation)."
      ]
    },
    {
      "cell_type": "markdown",
      "metadata": {},
      "source": [
        "## Step 3 - Train your Agent\nFinally, we are done, we can use a RL algorithm to train an agent to walk/run the `Go1` robot.\nNote: If you have followed this guide with your own robot model, you may discover\nduring training that some environment parameters were not as desired,\nfeel free to go back to step 2 and change anything as needed.\n\n"
      ]
    },
    {
      "cell_type": "code",
      "execution_count": null,
      "metadata": {
        "collapsed": false
      },
      "outputs": [],
      "source": [
        "def main():\n    \"\"\"Run the final Go1 environment setup.\"\"\"\n    # Note: The original tutorial includes an image showing the Go1 robot in the environment.\n    # The image is available at: https://github.com/Kallinteris-Andreas/Gymnasium-kalli/assets/30759571/bf1797a3-264d-47de-b14c-e3c16072f695\n\n    env = gym.make(\n        \"Ant-v5\",\n        xml_file=\"./mujoco_menagerie/unitree_go1/scene.xml\",\n        forward_reward_weight=1,\n        ctrl_cost_weight=0.05,\n        contact_cost_weight=5e-4,\n        healthy_reward=1,\n        main_body=1,\n        healthy_z_range=(0.195, 0.75),\n        include_cfrc_ext_in_observation=True,\n        exclude_current_positions_from_observation=False,\n        reset_noise_scale=0.1,\n        frame_skip=25,\n        max_episode_steps=1000,\n        render_mode=\"rgb_array\",  # Change to \"human\" to visualize\n    )\n\n    # Example of running the environment for a few steps\n    obs, info = env.reset()\n\n    for _ in range(100):\n        action = env.action_space.sample()  # Replace with your agent's action\n        obs, reward, terminated, truncated, info = env.step(action)\n\n        if terminated or truncated:\n            obs, info = env.reset()\n\n    env.close()\n    print(\"Environment tested successfully!\")\n\n    # Now you would typically:\n    # 1. Set up your RL algorithm\n    # 2. Train the agent\n    # 3. Evaluate the agent's performance"
      ]
    },
    {
      "cell_type": "markdown",
      "metadata": {},
      "source": [
        "## Epilogue\nYou can follow this guide to create most quadruped environments.\nTo create humanoid/bipedal robots, you can also follow this guide using the `Gymnasium/MuJoCo/Humnaoid-v5` framework.\n\nNote: The original tutorial includes a video demonstration of the trained Go1 robot walking.\nThe video shows the robot achieving a speed of up to 4.7 m/s according to the manufacturer.\nIn the original tutorial, this video is embedded from:\nhttps://odysee.com/$/embed/@Kallinteris-Andreas:7/video0-step-0-to-step-1000:1?r=6fn5jA9uZQUZXGKVpwtqjz1eyJcS3hj3\n\n"
      ]
    },
    {
      "cell_type": "code",
      "execution_count": null,
      "metadata": {
        "collapsed": false
      },
      "outputs": [],
      "source": [
        "# Author: @kallinteris-andreas (https://github.com/Kallinteris-Andreas)"
      ]
    }
  ],
  "metadata": {
    "kernelspec": {
      "display_name": "Python 3",
      "language": "python",
      "name": "python3"
    },
    "language_info": {
      "codemirror_mode": {
        "name": "ipython",
        "version": 3
      },
      "file_extension": ".py",
      "mimetype": "text/x-python",
      "name": "python",
      "nbconvert_exporter": "python",
      "pygments_lexer": "ipython3",
      "version": "3.12.11"
    }
  },
  "nbformat": 4,
  "nbformat_minor": 0
}