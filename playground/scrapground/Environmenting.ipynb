{
 "cells": [
  {
   "cell_type": "markdown",
   "metadata": {},
   "source": [
    "methods needed:\n",
    "\n",
    "    -fix _get_obs\n",
    "    -control joint vy joint\n",
    "    -read joint by joint\n",
    "    -fix the order of joints in action space\n",
    "    -fix the limits of joint on action space TO BE TORQUE\n",
    "\n",
    "    --phase 2:7\n",
    "    -reward\n",
    "    -action\n",
    "    -step\n",
    "        -timeout when T is reached\n",
    "\n",
    "\n",
    "\n",
    "    --phase 1:\n",
    "    -limit obs space by actual\n",
    "    \n",
    "\n",
    "done:\n",
    "    -print obs\n",
    "    -update obs infra in init\n",
    "    -reset\n",
    "    -_get_obs\n",
    "\n",
    "    -random bezier parameters\n",
    "    -random time span\n",
    "    -update motion selector\n",
    "    -update current and past states\n",
    "    -update past 6 actions\n",
    "    -time progress"
   ]
  },
  {
   "cell_type": "code",
   "execution_count": 1,
   "metadata": {},
   "outputs": [],
   "source": [
    "import gymnasium as gym\n",
    "from gymnasium import spaces\n",
    "import numpy as np\n",
    "\n",
    "env = gym.make('A1Soccer-v2', render_mode = 'human')"
   ]
  },
  {
   "cell_type": "code",
   "execution_count": 2,
   "metadata": {},
   "outputs": [
    {
     "data": {
      "text/plain": [
       "array([ 0.33362103,  2.8505905 , -2.467269  ,  0.15610287, -0.6517698 ,\n",
       "       -2.383648  , -0.7163224 ,  1.8749487 , -1.9481026 , -0.42189732,\n",
       "        2.0172963 , -2.66782   ], dtype=float32)"
      ]
     },
     "execution_count": 2,
     "metadata": {},
     "output_type": "execute_result"
    }
   ],
   "source": [
    "env.action_space.sample()"
   ]
  },
  {
   "cell_type": "code",
   "execution_count": 3,
   "metadata": {},
   "outputs": [],
   "source": [
    "# spaces.Box(low = env.min_joint_value, high = env.max_joint_value, dtype = np.float32)\n",
    "# x = spaces.Box(low = env.action_box_low, high = env.action_box_high, dtype = np.float32)\n",
    "# env.action_box_low, env.action_box_high"
   ]
  },
  {
   "cell_type": "code",
   "execution_count": 4,
   "metadata": {},
   "outputs": [
    {
     "name": "stderr",
     "output_type": "stream",
     "text": [
      "/Users/mohammedbadra/codes/minerva/capstone/robot-ball-gym/gymnasium-repo/Gymnasium/gymnasium/core.py:297: UserWarning: \u001b[33mWARN: env.data to get variables from other wrappers is deprecated and will be removed in v1.0, to get this variable you can do `env.unwrapped.data` for environment variables or `env.get_attr('data')` that will search the remaining wrappers.\u001b[0m\n",
      "  logger.warn(\n"
     ]
    },
    {
     "data": {
      "text/plain": [
       "\"actuator(*args, **kwargs)\\nOverloaded function.\\n\\n1. actuator(self: mujoco._structs.MjData, arg0: int) -> mujoco::python::MjDataActuatorViews\\n\\n2. actuator(self: mujoco._structs.MjData, name: str = '') -> mujoco::python::MjDataActuatorViews\\n\""
      ]
     },
     "execution_count": 4,
     "metadata": {},
     "output_type": "execute_result"
    }
   ],
   "source": [
    "env.data.actuator.__doc__\n",
    "#.__dir__()\n",
    "# env.data.actuator.()"
   ]
  },
  {
   "cell_type": "code",
   "execution_count": 3,
   "metadata": {},
   "outputs": [
    {
     "data": {
      "text/plain": [
       "array([ 0.5978266 ,  3.9588478 , -1.3895917 ,  0.79002976, -1.016216  ,\n",
       "       -2.1037297 , -0.20529164,  2.9303007 , -1.8863648 ,  0.6731029 ,\n",
       "        0.961458  , -0.97211146], dtype=float32)"
      ]
     },
     "execution_count": 3,
     "metadata": {},
     "output_type": "execute_result"
    }
   ],
   "source": [
    "env.action_space.sample()"
   ]
  },
  {
   "cell_type": "code",
   "execution_count": 4,
   "metadata": {},
   "outputs": [
    {
     "ename": "SyntaxError",
     "evalue": "incomplete input (2409875464.py, line 19)",
     "output_type": "error",
     "traceback": [
      "\u001b[0;36m  Cell \u001b[0;32mIn[4], line 19\u001b[0;36m\u001b[0m\n\u001b[0;31m    def apply_action(self):\u001b[0m\n\u001b[0m                           ^\u001b[0m\n\u001b[0;31mSyntaxError\u001b[0m\u001b[0;31m:\u001b[0m incomplete input\n"
     ]
    }
   ],
   "source": [
    "# class \n",
    "\n",
    "joints = {\n",
    "    'FR_hip_joint': 0,\n",
    "    'FR_thigh_joint': 0,\n",
    "    'FR_calf_joint': 0,\n",
    "    'FL_hip_joint': 0,\n",
    "    'FL_thigh_joint': 0,\n",
    "    'FL_calf_joint': 0,\n",
    "    'RR_hip_joint': 0,\n",
    "    'RR_thigh_joint': 0,\n",
    "    'RR_calf_joint': 0,\n",
    "    'RL_hip_joint': 0,\n",
    "    'RL_thigh_joint': 0,\n",
    "    'RL_calf_joint': 0}\n",
    "\n",
    "robot_orientation = {\"qw\": 0, \"qx\": 0, \"qy\": 0, \"qz\":0}\n",
    "\n",
    "def apply_action(self):\n"
   ]
  },
  {
   "cell_type": "code",
   "execution_count": 5,
   "metadata": {},
   "outputs": [],
   "source": [
    "def mover(self):\n",
    "    while True:  \n",
    "        x = env.action_space.sample()\n",
    "        print(\"Action:\", x)\n",
    "        env.step(x)\n",
    "\n",
    "        # print(\"Actual\", env.get_robot_joint_positions())\n",
    "        print(\"Ctrl data\", env.data.ctrl)\n",
    "    \n",
    "\n",
    "        \n",
    "\n",
    "        time.sleep(0.1)\n",
    "\n",
    "        # print(\"OBSERVATION COMING UP\")\n",
    "        # # print(env.update_robot_state())\n",
    "        # env.print_obs()\n",
    "        # you can use a random action or some default action\n",
    "        env.render()"
   ]
  },
  {
   "cell_type": "code",
   "execution_count": 13,
   "metadata": {},
   "outputs": [
    {
     "name": "stderr",
     "output_type": "stream",
     "text": [
      "/Users/mohammedbadra/codes/minerva/capstone/robot-ball-gym/gymnasium-repo/Gymnasium/gymnasium/core.py:297: UserWarning: \u001b[33mWARN: env.data to get variables from other wrappers is deprecated and will be removed in v1.0, to get this variable you can do `env.unwrapped.data` for environment variables or `env.get_attr('data')` that will search the remaining wrappers.\u001b[0m\n",
      "  logger.warn(\n"
     ]
    },
    {
     "data": {
      "text/plain": [
       "['T',\n",
       " '__abs__',\n",
       " '__add__',\n",
       " '__and__',\n",
       " '__array__',\n",
       " '__array_finalize__',\n",
       " '__array_function__',\n",
       " '__array_interface__',\n",
       " '__array_prepare__',\n",
       " '__array_priority__',\n",
       " '__array_struct__',\n",
       " '__array_ufunc__',\n",
       " '__array_wrap__',\n",
       " '__bool__',\n",
       " '__class__',\n",
       " '__class_getitem__',\n",
       " '__complex__',\n",
       " '__contains__',\n",
       " '__copy__',\n",
       " '__deepcopy__',\n",
       " '__delattr__',\n",
       " '__delitem__',\n",
       " '__dir__',\n",
       " '__divmod__',\n",
       " '__dlpack__',\n",
       " '__dlpack_device__',\n",
       " '__doc__',\n",
       " '__eq__',\n",
       " '__float__',\n",
       " '__floordiv__',\n",
       " '__format__',\n",
       " '__ge__',\n",
       " '__getattribute__',\n",
       " '__getitem__',\n",
       " '__getstate__',\n",
       " '__gt__',\n",
       " '__hash__',\n",
       " '__iadd__',\n",
       " '__iand__',\n",
       " '__ifloordiv__',\n",
       " '__ilshift__',\n",
       " '__imatmul__',\n",
       " '__imod__',\n",
       " '__imul__',\n",
       " '__index__',\n",
       " '__init__',\n",
       " '__init_subclass__',\n",
       " '__int__',\n",
       " '__invert__',\n",
       " '__ior__',\n",
       " '__ipow__',\n",
       " '__irshift__',\n",
       " '__isub__',\n",
       " '__iter__',\n",
       " '__itruediv__',\n",
       " '__ixor__',\n",
       " '__le__',\n",
       " '__len__',\n",
       " '__lshift__',\n",
       " '__lt__',\n",
       " '__matmul__',\n",
       " '__mod__',\n",
       " '__mul__',\n",
       " '__ne__',\n",
       " '__neg__',\n",
       " '__new__',\n",
       " '__or__',\n",
       " '__pos__',\n",
       " '__pow__',\n",
       " '__radd__',\n",
       " '__rand__',\n",
       " '__rdivmod__',\n",
       " '__reduce__',\n",
       " '__reduce_ex__',\n",
       " '__repr__',\n",
       " '__rfloordiv__',\n",
       " '__rlshift__',\n",
       " '__rmatmul__',\n",
       " '__rmod__',\n",
       " '__rmul__',\n",
       " '__ror__',\n",
       " '__rpow__',\n",
       " '__rrshift__',\n",
       " '__rshift__',\n",
       " '__rsub__',\n",
       " '__rtruediv__',\n",
       " '__rxor__',\n",
       " '__setattr__',\n",
       " '__setitem__',\n",
       " '__setstate__',\n",
       " '__sizeof__',\n",
       " '__str__',\n",
       " '__sub__',\n",
       " '__subclasshook__',\n",
       " '__truediv__',\n",
       " '__xor__',\n",
       " 'all',\n",
       " 'any',\n",
       " 'argmax',\n",
       " 'argmin',\n",
       " 'argpartition',\n",
       " 'argsort',\n",
       " 'astype',\n",
       " 'base',\n",
       " 'byteswap',\n",
       " 'choose',\n",
       " 'clip',\n",
       " 'compress',\n",
       " 'conj',\n",
       " 'conjugate',\n",
       " 'copy',\n",
       " 'ctypes',\n",
       " 'cumprod',\n",
       " 'cumsum',\n",
       " 'data',\n",
       " 'diagonal',\n",
       " 'dot',\n",
       " 'dtype',\n",
       " 'dump',\n",
       " 'dumps',\n",
       " 'fill',\n",
       " 'flags',\n",
       " 'flat',\n",
       " 'flatten',\n",
       " 'getfield',\n",
       " 'imag',\n",
       " 'item',\n",
       " 'itemset',\n",
       " 'itemsize',\n",
       " 'max',\n",
       " 'mean',\n",
       " 'min',\n",
       " 'nbytes',\n",
       " 'ndim',\n",
       " 'newbyteorder',\n",
       " 'nonzero',\n",
       " 'partition',\n",
       " 'prod',\n",
       " 'ptp',\n",
       " 'put',\n",
       " 'ravel',\n",
       " 'real',\n",
       " 'repeat',\n",
       " 'reshape',\n",
       " 'resize',\n",
       " 'round',\n",
       " 'searchsorted',\n",
       " 'setfield',\n",
       " 'setflags',\n",
       " 'shape',\n",
       " 'size',\n",
       " 'sort',\n",
       " 'squeeze',\n",
       " 'std',\n",
       " 'strides',\n",
       " 'sum',\n",
       " 'swapaxes',\n",
       " 'take',\n",
       " 'tobytes',\n",
       " 'tofile',\n",
       " 'tolist',\n",
       " 'tostring',\n",
       " 'trace',\n",
       " 'transpose',\n",
       " 'var',\n",
       " 'view']"
      ]
     },
     "execution_count": 13,
     "metadata": {},
     "output_type": "execute_result"
    }
   ],
   "source": [
    "dir(env.data.qpos)"
   ]
  },
  {
   "cell_type": "code",
   "execution_count": 17,
   "metadata": {},
   "outputs": [
    {
     "data": {
      "text/plain": [
       "Box([-0.802851 -1.0472   -2.69653  -0.802851 -1.0472   -2.69653  -0.802851\n",
       " -1.0472   -2.69653  -0.802851 -1.0472   -2.69653 ], [ 0.802851  4.18879  -0.916298  0.802851  4.18879  -0.916298  0.802851\n",
       "  4.18879  -0.916298  0.802851  4.18879  -0.916298], (12,), float32)"
      ]
     },
     "execution_count": 17,
     "metadata": {},
     "output_type": "execute_result"
    }
   ],
   "source": [
    "env.action_space"
   ]
  },
  {
   "cell_type": "code",
   "execution_count": 18,
   "metadata": {},
   "outputs": [
    {
     "name": "stderr",
     "output_type": "stream",
     "text": [
      "/Users/mohammedbadra/codes/minerva/capstone/robot-ball-gym/gymnasium-repo/Gymnasium/gymnasium/core.py:297: UserWarning: \u001b[33mWARN: env.data to get variables from other wrappers is deprecated and will be removed in v1.0, to get this variable you can do `env.unwrapped.data` for environment variables or `env.get_attr('data')` that will search the remaining wrappers.\u001b[0m\n",
      "  logger.warn(\n"
     ]
    },
    {
     "data": {
      "text/plain": [
       "(array([ 0.  ,  0.  ,  0.06,  1.  ,  0.  ,  0.  ,  0.  ,  0.  , -0.85,\n",
       "         0.45,  1.  ,  0.  ,  0.  ,  0.  ,  0.  ,  0.  ,  0.  ,  0.  ,\n",
       "         0.  ,  0.  ,  0.  ,  0.  ,  0.  ,  0.  ,  0.  ,  0.  ]),\n",
       " array([0., 0., 0., 0., 0., 0., 0., 0., 0., 0., 0., 0., 0., 0., 0., 0., 0.,\n",
       "        0., 0., 0., 0., 0., 0., 0.]))"
      ]
     },
     "execution_count": 18,
     "metadata": {},
     "output_type": "execute_result"
    }
   ],
   "source": [
    "x = env.data.qpos\n",
    "y = env.data.qvel\n",
    "\n",
    "x,y"
   ]
  },
  {
   "cell_type": "code",
   "execution_count": 24,
   "metadata": {},
   "outputs": [
    {
     "data": {
      "text/plain": [
       "((26,), (24,))"
      ]
     },
     "execution_count": 24,
     "metadata": {},
     "output_type": "execute_result"
    }
   ],
   "source": [
    "x.shape, y.shape"
   ]
  },
  {
   "cell_type": "code",
   "execution_count": 26,
   "metadata": {},
   "outputs": [
    {
     "data": {
      "text/plain": [
       "26"
      ]
     },
     "execution_count": 26,
     "metadata": {},
     "output_type": "execute_result"
    }
   ],
   "source": [
    "len(x)"
   ]
  },
  {
   "cell_type": "code",
   "execution_count": 53,
   "metadata": {},
   "outputs": [
    {
     "name": "stdout",
     "output_type": "stream",
     "text": [
      "7 12 7\n"
     ]
    },
    {
     "data": {
      "text/plain": [
       "([1, 2, 3, 4, 5, 6, 7],\n",
       " [8, 9, 10, 11, 12, 13, 14, 15, 16, 17, 18, 19],\n",
       " [20, 21, 22, 23, 24, 25, 26])"
      ]
     },
     "execution_count": 53,
     "metadata": {},
     "output_type": "execute_result"
    }
   ],
   "source": [
    "z = [number for number in range(1, 27)]\n",
    "\n",
    "\n",
    "print(len(z[:7]), len(z[7:19]), len(z[19:]))\n",
    "\n",
    "\n",
    "(z[:7]), (z[7:19]), (z[19:])"
   ]
  },
  {
   "cell_type": "code",
   "execution_count": 34,
   "metadata": {},
   "outputs": [
    {
     "data": {
      "text/plain": [
       "6"
      ]
     },
     "execution_count": 34,
     "metadata": {},
     "output_type": "execute_result"
    }
   ],
   "source": [
    "len(x[20:])"
   ]
  },
  {
   "cell_type": "code",
   "execution_count": 55,
   "metadata": {},
   "outputs": [
    {
     "data": {
      "text/plain": [
       "(6, 12, 6)"
      ]
     },
     "execution_count": 55,
     "metadata": {},
     "output_type": "execute_result"
    }
   ],
   "source": [
    "len(y[:6]), len(y[6:18]), len(y[18:])"
   ]
  },
  {
   "cell_type": "code",
   "execution_count": 57,
   "metadata": {},
   "outputs": [],
   "source": [
    "# class Robot_Data:\n",
    "#     def __init__(self, qpos, qvel):\n",
    "#         self.trunk_qpos = qpos[:7]\n",
    "#         self.legs_qpos = qpos[7:19]\n",
    "#         self.ball_qpos = qpos[19:]\n",
    "\n",
    "#         self.trunk_qvel = qvel[:6]\n",
    "#         self.legs_qvel = qvel[6:18]\n",
    "#         self.ball_qvel = qvel[18:]\n",
    "\n",
    "\n",
    "\n",
    "        "
   ]
  },
  {
   "cell_type": "code",
   "execution_count": 58,
   "metadata": {},
   "outputs": [],
   "source": [
    "class RobotState:\n",
    "    \"\"\"\n",
    "        Takes in env.data.qpos and env.data.qvel and processes\n",
    "        them with labels into:\n",
    "            -trunk_qpos_dict\n",
    "            -legs_qpos_dict\n",
    "            -ball_qpos_dict\n",
    "\n",
    "            -trunk_qvel_dict\n",
    "            -legs_qvel_dict\n",
    "            -ball_qvel_dict\n",
    "    \"\"\"\n",
    "    \n",
    "    def __init__(self, qpos, qvel):\n",
    "        # Assuming qpos and qvel are provided as input lists or numpy arrays\n",
    "        self.trunk_qpos = qpos[:7]\n",
    "        self.legs_qpos = qpos[7:19]\n",
    "        self.ball_qpos = qpos[19:]\n",
    "\n",
    "        self.trunk_qvel = qvel[:6]\n",
    "        self.legs_qvel = qvel[6:18]\n",
    "        self.ball_qvel = qvel[18:]\n",
    "\n",
    "\n",
    "        self.trunk_qpos_dict = self.create_trunk_qpos_dict()\n",
    "        self.legs_qpos_dict = self.create_legs_qpos_dict()\n",
    "        self.ball_qpos_dict = self.create_ball_qpos_dict()\n",
    "\n",
    "        self.trunk_qvel_dict = self.create_trunk_qvel_dict()\n",
    "        self.legs_qvel_dict = self.create_legs_qvel_dict()\n",
    "        self.ball_qvel_dict = self.create_ball_qvel_dict()\n",
    "\n",
    "    def create_trunk_qpos_dict(self):\n",
    "        trunk_qpos_dict = {\n",
    "            'trunk_pos_x': self.trunk_qpos[0],\n",
    "            'trunk_pos_y': self.trunk_qpos[1],\n",
    "            'trunk_pos_z': self.trunk_qpos[2],\n",
    "            'trunk_orient_qw': self.trunk_qpos[3],\n",
    "            'trunk_orient_qx': self.trunk_qpos[4],\n",
    "            'trunk_orient_qy': self.trunk_qpos[5],\n",
    "            'trunk_orient_qz': self.trunk_qpos[6]}\n",
    "        \n",
    "        return trunk_qpos_dict\n",
    "\n",
    "    def create_legs_qpos_dict(self):\n",
    "        leg_names = ['FR', 'FL', 'RR', 'RL']\n",
    "        joint_names = ['hip_pos', 'thigh_pos', 'calf_pos']\n",
    "        legs_qpos_dict = {}\n",
    "        for i, leg in enumerate(leg_names):\n",
    "            for j, joint in enumerate(joint_names):\n",
    "                key = f\"{leg}_{joint}\"\n",
    "                legs_qpos_dict[key] = self.legs_qpos[i * 3 + j]\n",
    "        return legs_qpos_dict\n",
    "\n",
    "    def create_ball_qpos_dict(self):\n",
    "        ball_qpos_dict =  {\n",
    "            'ball_pos_x': self.ball_qpos[0],\n",
    "            'ball_pos_y': self.ball_qpos[1],\n",
    "            'ball_pos_z': self.ball_qpos[2],\n",
    "            'ball_orient_qw': self.ball_qpos[3],\n",
    "            'ball_orient_qx': self.ball_qpos[4],\n",
    "            'ball_orient_qy': self.ball_qpos[5],\n",
    "            'ball_orient_qz': self.ball_qpos[6]}\n",
    "        \n",
    "        return ball_qpos_dict\n",
    "\n",
    "    def create_trunk_qvel_dict(self):\n",
    "        trunk_qvel_dict =  {\n",
    "            'trunk_vel_x': self.trunk_qvel[0],\n",
    "            'trunk_vel_y': self.trunk_qvel[1],\n",
    "            'trunk_vel_z': self.trunk_qvel[2],\n",
    "            'trunk_angvel_x': self.trunk_qvel[3],\n",
    "            'trunk_angvel_y': self.trunk_qvel[4],\n",
    "            'trunk_angvel_z': self.trunk_qvel[5]}\n",
    "        \n",
    "        return trunk_qvel_dict\n",
    "\n",
    "    def create_legs_qvel_dict(self):\n",
    "        leg_names = ['FR', 'FL', 'RR', 'RL']\n",
    "        joint_names = ['hip_vel', 'thigh_vel', 'calf_vel']\n",
    "        legs_qvel_dict = {}\n",
    "        for i, leg in enumerate(leg_names):\n",
    "            for j, joint in enumerate(joint_names):\n",
    "                key = f\"{leg}_{joint}\"\n",
    "                legs_qvel_dict[key] = self.legs_qvel[i * 3 + j]\n",
    "\n",
    "        return legs_qvel_dict\n",
    "\n",
    "    def create_ball_qvel_dict(self):\n",
    "        ball_qvel_dict =  {\n",
    "            'ball_vel_x': self.ball_qvel[0],\n",
    "            'ball_vel_y': self.ball_qvel[1],\n",
    "            'ball_vel_z': self.ball_qvel[2],\n",
    "            'ball_angvel_x': self.ball_qvel[3],\n",
    "            'ball_angvel_y': self.ball_qvel[4],\n",
    "            'ball_angvel_z': self.ball_qvel[5]}\n",
    "        \n",
    "        return ball_qvel_dict"
   ]
  },
  {
   "cell_type": "code",
   "execution_count": 68,
   "metadata": {},
   "outputs": [
    {
     "data": {
      "text/plain": [
       "({'trunk_pos_x': 0.0,\n",
       "  'trunk_pos_y': 0.0,\n",
       "  'trunk_pos_z': 0.06,\n",
       "  'trunk_orient_qw': 1.0,\n",
       "  'trunk_orient_qx': 0.0,\n",
       "  'trunk_orient_qy': 0.0,\n",
       "  'trunk_orient_qz': 0.0},\n",
       " {'FR_hip_pos': 0.0,\n",
       "  'FR_thigh_pos': -0.85,\n",
       "  'FR_calf_pos': 0.45,\n",
       "  'FL_hip_pos': 1.0,\n",
       "  'FL_thigh_pos': 0.0,\n",
       "  'FL_calf_pos': 0.0,\n",
       "  'RR_hip_pos': 0.0,\n",
       "  'RR_thigh_pos': 0.0,\n",
       "  'RR_calf_pos': 0.0,\n",
       "  'RL_hip_pos': 0.0,\n",
       "  'RL_thigh_pos': 0.0,\n",
       "  'RL_calf_pos': 0.0},\n",
       " {'ball_pos_x': 0.0,\n",
       "  'ball_pos_y': 0.0,\n",
       "  'ball_pos_z': 0.0,\n",
       "  'ball_orient_qw': 0.0,\n",
       "  'ball_orient_qx': 0.0,\n",
       "  'ball_orient_qy': 0.0,\n",
       "  'ball_orient_qz': 0.0})"
      ]
     },
     "execution_count": 68,
     "metadata": {},
     "output_type": "execute_result"
    }
   ],
   "source": [
    "x = env.data.qpos\n",
    "y = env.data.qvel\n",
    "\n",
    "s1 = RobotState(x, y)\n",
    "\n",
    "s1.trunk_qpos_dict, s1.legs_qpos_dict, s1.ball_qpos_dict"
   ]
  },
  {
   "cell_type": "markdown",
   "metadata": {},
   "source": [
    "observation space update:\n",
    "    bezier_parameters: 15\n",
    "        (constant episode)\n",
    "    motion_phase_time_span: 1\n",
    "        (constant episode)\n",
    "\n",
    "need to be updated\n",
    "    motion_phase_selector: 1\n",
    "        (updated by update_motion_phase_selector)\n",
    "    motion_phase_progress: 1\n",
    "        (updated by update_motion_phase_progress)\n",
    "    combined_history: 84+21\n",
    "        ()\n",
    "    action_history: 72\n",
    "        ()\n",
    "\n",
    "\n",
    "\n",
    "observation space retrieval:\n",
    "    motion_phase_selector: 1 (updated by update_motion_phase_selector)\n",
    "    bezier_parameters: 15\n",
    "    motion_phase_time_span: 1\n",
    "    motion_phase_progress: 1\n",
    "    combined_robot_state_history: 84+21\n",
    "    action_history: 72\n",
    "\n",
    "\n",
    "\n",
    "self.observation_structure = {\n",
    "    \"motion_phase_selector\": motion_phase_selector_dim,\n",
    "    \"bezier_parameters\": bezier_parameters_dim,\n",
    "    \"motion_phase_time_span\": motion_phase_time_span_dim,\n",
    "    \"motion_phase_progress\": motion_phase_progress_dim,\n",
    "    \"combined_robot_state_history\": combined_history_dim,  # Joint positions and orientation history combined\n",
    "    \"action_history\": action_history_dim}\n",
    "\n",
    "\n",
    "\n",
    "\n",
    "\n",
    "\n",
    "\n",
    "\n",
    "\n",
    "before you get obs, at each step, you n\n",
    "\n",
    "during each step you do this:\n",
    "    -update motion phase selector\n",
    "    -update bezier_parameters\n",
    "    -update motion_phase_time_span\n",
    "    -update motion_phase_progress\n",
    "    -update combined_history\n",
    "    -update action history"
   ]
  },
  {
   "cell_type": "code",
   "execution_count": 74,
   "metadata": {},
   "outputs": [
    {
     "data": {
      "text/plain": [
       "72"
      ]
     },
     "execution_count": 74,
     "metadata": {},
     "output_type": "execute_result"
    }
   ],
   "source": [
    "6*12"
   ]
  },
  {
   "cell_type": "code",
   "execution_count": 4,
   "metadata": {},
   "outputs": [
    {
     "name": "stderr",
     "output_type": "stream",
     "text": [
      "/Users/mohammedbadra/codes/minerva/capstone/robot-ball-gym/gymnasium-repo/Gymnasium/gymnasium/core.py:297: UserWarning: \u001b[33mWARN: env.RobotState to get variables from other wrappers is deprecated and will be removed in v1.0, to get this variable you can do `env.unwrapped.RobotState` for environment variables or `env.get_attr('RobotState')` that will search the remaining wrappers.\u001b[0m\n",
      "  logger.warn(\n"
     ]
    },
    {
     "ename": "AttributeError",
     "evalue": "'A1SoccerEnv_v2' object has no attribute 'RobotState'",
     "output_type": "error",
     "traceback": [
      "\u001b[0;31m---------------------------------------------------------------------------\u001b[0m",
      "\u001b[0;31mAttributeError\u001b[0m                            Traceback (most recent call last)",
      "Cell \u001b[0;32mIn[4], line 1\u001b[0m\n\u001b[0;32m----> 1\u001b[0m \u001b[43menv\u001b[49m\u001b[38;5;241;43m.\u001b[39;49m\u001b[43mRobotState\u001b[49m(env\u001b[38;5;241m.\u001b[39mqpos, env\u001b[38;5;241m.\u001b[39mqvel)\n",
      "File \u001b[0;32m~/codes/minerva/capstone/robot-ball-gym/gymnasium-repo/Gymnasium/gymnasium/core.py:301\u001b[0m, in \u001b[0;36mWrapper.__getattr__\u001b[0;34m(self, name)\u001b[0m\n\u001b[1;32m    296\u001b[0m     \u001b[38;5;28;01mraise\u001b[39;00m \u001b[38;5;167;01mAttributeError\u001b[39;00m(\u001b[38;5;124mf\u001b[39m\u001b[38;5;124m\"\u001b[39m\u001b[38;5;124maccessing private attribute \u001b[39m\u001b[38;5;124m'\u001b[39m\u001b[38;5;132;01m{\u001b[39;00mname\u001b[38;5;132;01m}\u001b[39;00m\u001b[38;5;124m'\u001b[39m\u001b[38;5;124m is prohibited\u001b[39m\u001b[38;5;124m\"\u001b[39m)\n\u001b[1;32m    297\u001b[0m logger\u001b[38;5;241m.\u001b[39mwarn(\n\u001b[1;32m    298\u001b[0m     \u001b[38;5;124mf\u001b[39m\u001b[38;5;124m\"\u001b[39m\u001b[38;5;124menv.\u001b[39m\u001b[38;5;132;01m{\u001b[39;00mname\u001b[38;5;132;01m}\u001b[39;00m\u001b[38;5;124m to get variables from other wrappers is deprecated and will be removed in v1.0, \u001b[39m\u001b[38;5;124m\"\u001b[39m\n\u001b[1;32m    299\u001b[0m     \u001b[38;5;124mf\u001b[39m\u001b[38;5;124m\"\u001b[39m\u001b[38;5;124mto get this variable you can do `env.unwrapped.\u001b[39m\u001b[38;5;132;01m{\u001b[39;00mname\u001b[38;5;132;01m}\u001b[39;00m\u001b[38;5;124m` for environment variables or `env.get_attr(\u001b[39m\u001b[38;5;124m'\u001b[39m\u001b[38;5;132;01m{\u001b[39;00mname\u001b[38;5;132;01m}\u001b[39;00m\u001b[38;5;124m'\u001b[39m\u001b[38;5;124m)` that will search the remaining wrappers.\u001b[39m\u001b[38;5;124m\"\u001b[39m\n\u001b[1;32m    300\u001b[0m )\n\u001b[0;32m--> 301\u001b[0m \u001b[38;5;28;01mreturn\u001b[39;00m \u001b[38;5;28mgetattr\u001b[39m(\u001b[38;5;28mself\u001b[39m\u001b[38;5;241m.\u001b[39menv, name)\n",
      "File \u001b[0;32m~/codes/minerva/capstone/robot-ball-gym/gymnasium-repo/Gymnasium/gymnasium/core.py:301\u001b[0m, in \u001b[0;36mWrapper.__getattr__\u001b[0;34m(self, name)\u001b[0m\n\u001b[1;32m    296\u001b[0m     \u001b[38;5;28;01mraise\u001b[39;00m \u001b[38;5;167;01mAttributeError\u001b[39;00m(\u001b[38;5;124mf\u001b[39m\u001b[38;5;124m\"\u001b[39m\u001b[38;5;124maccessing private attribute \u001b[39m\u001b[38;5;124m'\u001b[39m\u001b[38;5;132;01m{\u001b[39;00mname\u001b[38;5;132;01m}\u001b[39;00m\u001b[38;5;124m'\u001b[39m\u001b[38;5;124m is prohibited\u001b[39m\u001b[38;5;124m\"\u001b[39m)\n\u001b[1;32m    297\u001b[0m logger\u001b[38;5;241m.\u001b[39mwarn(\n\u001b[1;32m    298\u001b[0m     \u001b[38;5;124mf\u001b[39m\u001b[38;5;124m\"\u001b[39m\u001b[38;5;124menv.\u001b[39m\u001b[38;5;132;01m{\u001b[39;00mname\u001b[38;5;132;01m}\u001b[39;00m\u001b[38;5;124m to get variables from other wrappers is deprecated and will be removed in v1.0, \u001b[39m\u001b[38;5;124m\"\u001b[39m\n\u001b[1;32m    299\u001b[0m     \u001b[38;5;124mf\u001b[39m\u001b[38;5;124m\"\u001b[39m\u001b[38;5;124mto get this variable you can do `env.unwrapped.\u001b[39m\u001b[38;5;132;01m{\u001b[39;00mname\u001b[38;5;132;01m}\u001b[39;00m\u001b[38;5;124m` for environment variables or `env.get_attr(\u001b[39m\u001b[38;5;124m'\u001b[39m\u001b[38;5;132;01m{\u001b[39;00mname\u001b[38;5;132;01m}\u001b[39;00m\u001b[38;5;124m'\u001b[39m\u001b[38;5;124m)` that will search the remaining wrappers.\u001b[39m\u001b[38;5;124m\"\u001b[39m\n\u001b[1;32m    300\u001b[0m )\n\u001b[0;32m--> 301\u001b[0m \u001b[38;5;28;01mreturn\u001b[39;00m \u001b[38;5;28mgetattr\u001b[39m(\u001b[38;5;28mself\u001b[39m\u001b[38;5;241m.\u001b[39menv, name)\n",
      "File \u001b[0;32m~/codes/minerva/capstone/robot-ball-gym/gymnasium-repo/Gymnasium/gymnasium/core.py:301\u001b[0m, in \u001b[0;36mWrapper.__getattr__\u001b[0;34m(self, name)\u001b[0m\n\u001b[1;32m    296\u001b[0m     \u001b[38;5;28;01mraise\u001b[39;00m \u001b[38;5;167;01mAttributeError\u001b[39;00m(\u001b[38;5;124mf\u001b[39m\u001b[38;5;124m\"\u001b[39m\u001b[38;5;124maccessing private attribute \u001b[39m\u001b[38;5;124m'\u001b[39m\u001b[38;5;132;01m{\u001b[39;00mname\u001b[38;5;132;01m}\u001b[39;00m\u001b[38;5;124m'\u001b[39m\u001b[38;5;124m is prohibited\u001b[39m\u001b[38;5;124m\"\u001b[39m)\n\u001b[1;32m    297\u001b[0m logger\u001b[38;5;241m.\u001b[39mwarn(\n\u001b[1;32m    298\u001b[0m     \u001b[38;5;124mf\u001b[39m\u001b[38;5;124m\"\u001b[39m\u001b[38;5;124menv.\u001b[39m\u001b[38;5;132;01m{\u001b[39;00mname\u001b[38;5;132;01m}\u001b[39;00m\u001b[38;5;124m to get variables from other wrappers is deprecated and will be removed in v1.0, \u001b[39m\u001b[38;5;124m\"\u001b[39m\n\u001b[1;32m    299\u001b[0m     \u001b[38;5;124mf\u001b[39m\u001b[38;5;124m\"\u001b[39m\u001b[38;5;124mto get this variable you can do `env.unwrapped.\u001b[39m\u001b[38;5;132;01m{\u001b[39;00mname\u001b[38;5;132;01m}\u001b[39;00m\u001b[38;5;124m` for environment variables or `env.get_attr(\u001b[39m\u001b[38;5;124m'\u001b[39m\u001b[38;5;132;01m{\u001b[39;00mname\u001b[38;5;132;01m}\u001b[39;00m\u001b[38;5;124m'\u001b[39m\u001b[38;5;124m)` that will search the remaining wrappers.\u001b[39m\u001b[38;5;124m\"\u001b[39m\n\u001b[1;32m    300\u001b[0m )\n\u001b[0;32m--> 301\u001b[0m \u001b[38;5;28;01mreturn\u001b[39;00m \u001b[38;5;28mgetattr\u001b[39m(\u001b[38;5;28mself\u001b[39m\u001b[38;5;241m.\u001b[39menv, name)\n",
      "\u001b[0;31mAttributeError\u001b[0m: 'A1SoccerEnv_v2' object has no attribute 'RobotState'"
     ]
    }
   ],
   "source": [
    "env.RobotState(env.qpos, env.qvel)"
   ]
  },
  {
   "cell_type": "code",
   "execution_count": 3,
   "metadata": {},
   "outputs": [
    {
     "name": "stdout",
     "output_type": "stream",
     "text": [
      "motion_phase_selector:\n",
      "[0.]\n",
      "\n",
      "bezier_parameters:\n",
      "[0. 0. 0. 0. 0. 0. 0. 0. 0. 0. 0. 0. 0. 0. 0.]\n",
      "\n",
      "motion_phase_time_span:\n",
      "[0.]\n",
      "\n",
      "motion_phase_progress:\n",
      "[0.]\n",
      "\n",
      "combined_robot_state_history:\n",
      "[0. 0. 0. 0. 0. 0. 0. 0. 0. 0. 0. 0. 0. 0. 0. 0. 0. 0. 0. 0. 0. 0. 0. 0.\n",
      " 0. 0. 0. 0. 0. 0. 0. 0. 0. 0. 0. 0. 0. 0. 0. 0. 0. 0. 0. 0. 0. 0. 0. 0.\n",
      " 0. 0. 0. 0. 0. 0. 0. 0. 0. 0. 0. 0. 0. 0. 0. 0. 0. 0. 0. 0. 0. 0. 0. 0.\n",
      " 0. 0. 0. 0. 0. 0. 0. 0. 0. 0. 0. 0. 0. 0. 0. 0. 0. 0. 0. 0. 0. 0. 0. 0.\n",
      " 0. 0. 0. 0. 0. 0. 0. 0. 0.]\n",
      "\n",
      "action_history:\n",
      "[0. 0. 0. 0. 0. 0. 0. 0. 0. 0. 0. 0. 0. 0. 0. 0. 0. 0. 0. 0. 0. 0. 0. 0.\n",
      " 0. 0. 0. 0. 0. 0. 0. 0. 0. 0. 0. 0. 0. 0. 0. 0. 0. 0. 0. 0. 0. 0. 0. 0.\n",
      " 0. 0. 0. 0. 0. 0. 0. 0. 0. 0. 0. 0. 0. 0. 0. 0. 0. 0. 0. 0. 0. 0. 0. 0.]\n",
      "\n"
     ]
    },
    {
     "name": "stderr",
     "output_type": "stream",
     "text": [
      "/Users/mohammedbadra/codes/minerva/capstone/robot-ball-gym/gymnasium-repo/Gymnasium/gymnasium/core.py:297: UserWarning: \u001b[33mWARN: env.print_obs to get variables from other wrappers is deprecated and will be removed in v1.0, to get this variable you can do `env.unwrapped.print_obs` for environment variables or `env.get_attr('print_obs')` that will search the remaining wrappers.\u001b[0m\n",
      "  logger.warn(\n"
     ]
    }
   ],
   "source": [
    "env.print_obs()"
   ]
  }
 ],
 "metadata": {
  "kernelspec": {
   "display_name": "gym-repo-venv",
   "language": "python",
   "name": "python3"
  },
  "language_info": {
   "codemirror_mode": {
    "name": "ipython",
    "version": 3
   },
   "file_extension": ".py",
   "mimetype": "text/x-python",
   "name": "python",
   "nbconvert_exporter": "python",
   "pygments_lexer": "ipython3",
   "version": "3.11.4"
  }
 },
 "nbformat": 4,
 "nbformat_minor": 2
}
