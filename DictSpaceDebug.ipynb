{
 "cells": [
  {
   "cell_type": "code",
   "execution_count": 1,
   "id": "145dd2b4",
   "metadata": {},
   "outputs": [],
   "source": [
    "from gymnasium.spaces import Dict, Box\n",
    "from tests.dev_wrappers.utils import TestingEnv\n",
    "\n",
    "from gymnasium.wrappers import ClipActionsV0"
   ]
  },
  {
   "cell_type": "code",
   "execution_count": 2,
   "id": "cb14b6dc",
   "metadata": {},
   "outputs": [],
   "source": [
    "action_space_box = Box(0, 2)\n",
    "action_space_dict = Dict(head=Box(0,10), body=Box(0,10))"
   ]
  },
  {
   "cell_type": "markdown",
   "id": "2041696f",
   "metadata": {},
   "source": [
    "# Box"
   ]
  },
  {
   "cell_type": "code",
   "execution_count": 3,
   "id": "0657b8c7",
   "metadata": {},
   "outputs": [
    {
     "data": {
      "text/plain": [
       "Box(0.0, 2.0, (1,), float32)"
      ]
     },
     "execution_count": 3,
     "metadata": {},
     "output_type": "execute_result"
    }
   ],
   "source": [
    "env = TestingEnv(action_space=action_space_box)\n",
    "env.action_space"
   ]
  },
  {
   "cell_type": "code",
   "execution_count": 4,
   "id": "4ae879e3",
   "metadata": {},
   "outputs": [
    {
     "data": {
      "text/plain": [
       "Box(0.0, 1.0, (1,), float32)"
      ]
     },
     "execution_count": 4,
     "metadata": {},
     "output_type": "execute_result"
    }
   ],
   "source": [
    "wrapped_env = ClipActionsV0(env, (0,1))\n",
    "wrapped_env.action_space"
   ]
  },
  {
   "cell_type": "code",
   "execution_count": 5,
   "id": "33e47292",
   "metadata": {},
   "outputs": [
    {
     "name": "stdout",
     "output_type": "stream",
     "text": [
      "=====ACTION BEFORE APPLY FUNCTION======\n",
      "\n",
      "10\n",
      "\n",
      "=====ACTION AFTER APPLY FUNCTION======\n",
      "\n",
      "1\n"
     ]
    },
    {
     "data": {
      "text/plain": [
       "(array(-6.4361176, dtype=float32), 0, False, False, {'action': 1})"
      ]
     },
     "execution_count": 5,
     "metadata": {},
     "output_type": "execute_result"
    }
   ],
   "source": [
    "wrapped_env.step(10)"
   ]
  },
  {
   "cell_type": "markdown",
   "id": "b671ddde",
   "metadata": {},
   "source": [
    "# Dict"
   ]
  },
  {
   "cell_type": "code",
   "execution_count": 6,
   "id": "290891de",
   "metadata": {},
   "outputs": [
    {
     "data": {
      "text/plain": [
       "Dict('head': Box(0.0, 10.0, (1,), float32), 'body': Box(0.0, 10.0, (1,), float32))"
      ]
     },
     "execution_count": 6,
     "metadata": {},
     "output_type": "execute_result"
    }
   ],
   "source": [
    "env = TestingEnv(action_space=action_space_dict)\n",
    "env.action_space"
   ]
  },
  {
   "cell_type": "code",
   "execution_count": 7,
   "id": "acedd755",
   "metadata": {},
   "outputs": [
    {
     "data": {
      "text/plain": [
       "Dict('head': Box(0.0, 5.0, (1,), float32), 'body': Box(0.0, 2.0, (1,), float32))"
      ]
     },
     "execution_count": 7,
     "metadata": {},
     "output_type": "execute_result"
    }
   ],
   "source": [
    "args = {\"body\": (0,2), \"head\": (0,5)}\n",
    "wrapped_env = ClipActionsV0(env, args)\n",
    "wrapped_env.action_space"
   ]
  },
  {
   "cell_type": "code",
   "execution_count": 8,
   "id": "92a3a5bc",
   "metadata": {
    "scrolled": true
   },
   "outputs": [
    {
     "name": "stdout",
     "output_type": "stream",
     "text": [
      "=====ACTION BEFORE APPLY FUNCTION======\n",
      "\n",
      "{'body': 10, 'head': 1}\n",
      "\n",
      "=====ACTION AFTER APPLY FUNCTION======\n",
      "\n",
      "SPACE\n",
      "Dict('head': Box(0.0, 5.0, (1,), float32), 'body': Box(0.0, 2.0, (1,), float32))\n",
      "X\n",
      "{'body': 10, 'head': 1}\n",
      "ARGS\n",
      "{'body': (0, 2), 'head': (0, 5)}\n",
      "head\n",
      "Box(0.0, 5.0, (1,), float32)\n",
      "10\n",
      "body\n",
      "Box(0.0, 2.0, (1,), float32)\n",
      "1\n",
      "OrderedDict([('head', 1), ('body', 2)])\n",
      "SPACE\n",
      "Dict('head': Box(0.0, 5.0, (1,), float32), 'body': Box(0.0, 2.0, (1,), float32))\n",
      "X\n",
      "{'body': 10, 'head': 1}\n",
      "ARGS\n",
      "{'body': (0, 2), 'head': (0, 5)}\n",
      "head\n",
      "Box(0.0, 5.0, (1,), float32)\n",
      "10\n",
      "body\n",
      "Box(0.0, 2.0, (1,), float32)\n",
      "1\n"
     ]
    },
    {
     "data": {
      "text/plain": [
       "(array(6.2363997, dtype=float32),\n",
       " 0,\n",
       " False,\n",
       " False,\n",
       " {'action': OrderedDict([('head', 1), ('body', 2)])})"
      ]
     },
     "execution_count": 8,
     "metadata": {},
     "output_type": "execute_result"
    }
   ],
   "source": [
    "wrapped_env.step({\"body\": 10, \"head\": 1})"
   ]
  },
  {
   "cell_type": "code",
   "execution_count": null,
   "id": "1a385a18",
   "metadata": {},
   "outputs": [],
   "source": []
  }
 ],
 "metadata": {
  "kernelspec": {
   "display_name": "Python 3 (ipykernel)",
   "language": "python",
   "name": "python3"
  },
  "language_info": {
   "codemirror_mode": {
    "name": "ipython",
    "version": 3
   },
   "file_extension": ".py",
   "mimetype": "text/x-python",
   "name": "python",
   "nbconvert_exporter": "python",
   "pygments_lexer": "ipython3",
   "version": "3.10.4"
  }
 },
 "nbformat": 4,
 "nbformat_minor": 5
}
